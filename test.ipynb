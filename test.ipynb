{
 "cells": [
  {
   "cell_type": "code",
   "execution_count": 1,
   "metadata": {},
   "outputs": [],
   "source": [
    "from sklearn.datasets import make_classification\n",
    "\n",
    "# Generate a 2-class classification dataset with 5 features and 200 instances\n",
    "X, y = make_classification(n_samples=2000, n_features=2, n_informative=2, n_redundant=0, n_clusters_per_class=1, n_classes=2, random_state=0)"
   ]
  },
  {
   "cell_type": "code",
   "execution_count": 2,
   "metadata": {},
   "outputs": [],
   "source": [
    "from AITIA.complexity_measures import F1, N1\n",
    "import pandas as pd"
   ]
  },
  {
   "cell_type": "code",
   "execution_count": 3,
   "metadata": {},
   "outputs": [],
   "source": [
    "from AITIA.syboid import SyBoid"
   ]
  },
  {
   "cell_type": "code",
   "execution_count": 13,
   "metadata": {},
   "outputs": [],
   "source": [
    "NumberOfBoids = 100\n",
    "Dimensions = 2\n",
    "Classes = 2\n",
    "F1_Score = 0.75\n",
    "N1_Score = 0.6\n",
    "Mimic_Classes = False \n",
    "Mimic_DataTypes = False\n",
    "Mimic_Dataset = False\n",
    "\n",
    "gen = SyBoid(F1_Score=F1_Score,N1_Score=N1_Score,NumberOfBoids=100,Dimensions=2,Classes=2, X=X,y=y, Mimic_Classes=True, Mimic_Dataset=True, Mimic_DataTypes=True)"
   ]
  }
 ],
 "metadata": {
  "kernelspec": {
   "display_name": "AITIA",
   "language": "python",
   "name": "aitia"
  },
  "language_info": {
   "codemirror_mode": {
    "name": "ipython",
    "version": 3
   },
   "file_extension": ".py",
   "mimetype": "text/x-python",
   "name": "python",
   "nbconvert_exporter": "python",
   "pygments_lexer": "ipython3",
   "version": "3.9.18"
  }
 },
 "nbformat": 4,
 "nbformat_minor": 2
}
