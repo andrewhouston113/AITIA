{
 "cells": [
  {
   "cell_type": "code",
   "execution_count": 1,
   "metadata": {},
   "outputs": [],
   "source": [
    "from sklearn.datasets import make_classification\n",
    "\n",
    "# Generate a 2-class classification dataset with 5 features and 200 instances\n",
    "X, y = make_classification(n_samples=200, n_features=6, n_informative=2, n_redundant=0, n_clusters_per_class=1, n_classes=2, random_state=0)"
   ]
  },
  {
   "cell_type": "code",
   "execution_count": 2,
   "metadata": {},
   "outputs": [],
   "source": [
    "from sklearn.linear_model import LogisticRegression\n",
    "from sklearn.model_selection import train_test_split"
   ]
  },
  {
   "cell_type": "code",
   "execution_count": 3,
   "metadata": {},
   "outputs": [
    {
     "data": {
      "text/html": [
       "<style>#sk-container-id-1 {color: black;}#sk-container-id-1 pre{padding: 0;}#sk-container-id-1 div.sk-toggleable {background-color: white;}#sk-container-id-1 label.sk-toggleable__label {cursor: pointer;display: block;width: 100%;margin-bottom: 0;padding: 0.3em;box-sizing: border-box;text-align: center;}#sk-container-id-1 label.sk-toggleable__label-arrow:before {content: \"▸\";float: left;margin-right: 0.25em;color: #696969;}#sk-container-id-1 label.sk-toggleable__label-arrow:hover:before {color: black;}#sk-container-id-1 div.sk-estimator:hover label.sk-toggleable__label-arrow:before {color: black;}#sk-container-id-1 div.sk-toggleable__content {max-height: 0;max-width: 0;overflow: hidden;text-align: left;background-color: #f0f8ff;}#sk-container-id-1 div.sk-toggleable__content pre {margin: 0.2em;color: black;border-radius: 0.25em;background-color: #f0f8ff;}#sk-container-id-1 input.sk-toggleable__control:checked~div.sk-toggleable__content {max-height: 200px;max-width: 100%;overflow: auto;}#sk-container-id-1 input.sk-toggleable__control:checked~label.sk-toggleable__label-arrow:before {content: \"▾\";}#sk-container-id-1 div.sk-estimator input.sk-toggleable__control:checked~label.sk-toggleable__label {background-color: #d4ebff;}#sk-container-id-1 div.sk-label input.sk-toggleable__control:checked~label.sk-toggleable__label {background-color: #d4ebff;}#sk-container-id-1 input.sk-hidden--visually {border: 0;clip: rect(1px 1px 1px 1px);clip: rect(1px, 1px, 1px, 1px);height: 1px;margin: -1px;overflow: hidden;padding: 0;position: absolute;width: 1px;}#sk-container-id-1 div.sk-estimator {font-family: monospace;background-color: #f0f8ff;border: 1px dotted black;border-radius: 0.25em;box-sizing: border-box;margin-bottom: 0.5em;}#sk-container-id-1 div.sk-estimator:hover {background-color: #d4ebff;}#sk-container-id-1 div.sk-parallel-item::after {content: \"\";width: 100%;border-bottom: 1px solid gray;flex-grow: 1;}#sk-container-id-1 div.sk-label:hover label.sk-toggleable__label {background-color: #d4ebff;}#sk-container-id-1 div.sk-serial::before {content: \"\";position: absolute;border-left: 1px solid gray;box-sizing: border-box;top: 0;bottom: 0;left: 50%;z-index: 0;}#sk-container-id-1 div.sk-serial {display: flex;flex-direction: column;align-items: center;background-color: white;padding-right: 0.2em;padding-left: 0.2em;position: relative;}#sk-container-id-1 div.sk-item {position: relative;z-index: 1;}#sk-container-id-1 div.sk-parallel {display: flex;align-items: stretch;justify-content: center;background-color: white;position: relative;}#sk-container-id-1 div.sk-item::before, #sk-container-id-1 div.sk-parallel-item::before {content: \"\";position: absolute;border-left: 1px solid gray;box-sizing: border-box;top: 0;bottom: 0;left: 50%;z-index: -1;}#sk-container-id-1 div.sk-parallel-item {display: flex;flex-direction: column;z-index: 1;position: relative;background-color: white;}#sk-container-id-1 div.sk-parallel-item:first-child::after {align-self: flex-end;width: 50%;}#sk-container-id-1 div.sk-parallel-item:last-child::after {align-self: flex-start;width: 50%;}#sk-container-id-1 div.sk-parallel-item:only-child::after {width: 0;}#sk-container-id-1 div.sk-dashed-wrapped {border: 1px dashed gray;margin: 0 0.4em 0.5em 0.4em;box-sizing: border-box;padding-bottom: 0.4em;background-color: white;}#sk-container-id-1 div.sk-label label {font-family: monospace;font-weight: bold;display: inline-block;line-height: 1.2em;}#sk-container-id-1 div.sk-label-container {text-align: center;}#sk-container-id-1 div.sk-container {/* jupyter's `normalize.less` sets `[hidden] { display: none; }` but bootstrap.min.css set `[hidden] { display: none !important; }` so we also need the `!important` here to be able to override the default hidden behavior on the sphinx rendered scikit-learn.org. See: https://github.com/scikit-learn/scikit-learn/issues/21755 */display: inline-block !important;position: relative;}#sk-container-id-1 div.sk-text-repr-fallback {display: none;}</style><div id=\"sk-container-id-1\" class=\"sk-top-container\"><div class=\"sk-text-repr-fallback\"><pre>LogisticRegression(max_iter=1000, random_state=0)</pre><b>In a Jupyter environment, please rerun this cell to show the HTML representation or trust the notebook. <br />On GitHub, the HTML representation is unable to render, please try loading this page with nbviewer.org.</b></div><div class=\"sk-container\" hidden><div class=\"sk-item\"><div class=\"sk-estimator sk-toggleable\"><input class=\"sk-toggleable__control sk-hidden--visually\" id=\"sk-estimator-id-1\" type=\"checkbox\" checked><label for=\"sk-estimator-id-1\" class=\"sk-toggleable__label sk-toggleable__label-arrow\">LogisticRegression</label><div class=\"sk-toggleable__content\"><pre>LogisticRegression(max_iter=1000, random_state=0)</pre></div></div></div></div></div>"
      ],
      "text/plain": [
       "LogisticRegression(max_iter=1000, random_state=0)"
      ]
     },
     "execution_count": 3,
     "metadata": {},
     "output_type": "execute_result"
    }
   ],
   "source": [
    "X_train, X_test, y_train, y_test = train_test_split(X, y, test_size=0.2, random_state=42)\n",
    "model = LogisticRegression(random_state=0, max_iter=1000)\n",
    "model.fit(X_train, y_train)"
   ]
  },
  {
   "cell_type": "code",
   "execution_count": 4,
   "metadata": {},
   "outputs": [
    {
     "data": {
      "text/plain": [
       "array([[ 2.99866316,  0.5183853 ,  0.23212027,  0.2242117 , -0.06942065,\n",
       "        -0.19618184]])"
      ]
     },
     "execution_count": 4,
     "metadata": {},
     "output_type": "execute_result"
    }
   ],
   "source": [
    "model.coef_"
   ]
  },
  {
   "cell_type": "code",
   "execution_count": 5,
   "metadata": {},
   "outputs": [],
   "source": [
    "from AITIA.syboid import SyBoid\n",
    "from AITIA.complexity_measures import F1, N1\n",
    "import matplotlib.pyplot as plt\n",
    "import numpy as np\n",
    "from sklearn.model_selection import cross_val_score\n",
    "from scipy.stats import multivariate_normal\n",
    "from tqdm import tqdm\n",
    "from sklearn.neighbors import KNeighborsRegressor"
   ]
  },
  {
   "cell_type": "code",
   "execution_count": 6,
   "metadata": {},
   "outputs": [],
   "source": [
    "from sklearn.model_selection import StratifiedKFold\n",
    "import itertools\n",
    "from sklearn.model_selection import StratifiedKFold\n",
    "from sklearn.metrics import roc_auc_score, accuracy_score, precision_score, recall_score, f1_score"
   ]
  },
  {
   "cell_type": "code",
   "execution_count": 18,
   "metadata": {},
   "outputs": [],
   "source": [
    "class ConceptDriftAnalysis:\n",
    "    \n",
    "    def __init__(self, X, y, f1_target=1, n1_target=1, pop_size=40, n_gen=10):\n",
    "        self.pop_size = pop_size\n",
    "        self.n_gen = n_gen\n",
    "        self.f1_target = f1_target\n",
    "        self.n1_target = n1_target\n",
    "        self.X = X\n",
    "        self.y = y\n",
    "\n",
    "        self.prepare_analysis()\n",
    "\n",
    "\n",
    "    def prepare_analysis(self):\n",
    "\n",
    "        # drifted dataset\n",
    "        syboid = SyBoid(F1_Score=self.f1_target, \n",
    "                             N1_Score=self.n1_target, \n",
    "                             X=self.X, \n",
    "                             y=self.y, \n",
    "                             Mimic_Classes=True, \n",
    "                             Mimic_DataTypes=True,\n",
    "                             Mimic_Dataset=True)\n",
    "        \n",
    "        syboid.Generate_Data(pop_size=self.pop_size, n_gen=self.n_gen)\n",
    "\n",
    "        self.X_, self.y_ = syboid.return_best_dataset()\n",
    "\n",
    "\n",
    "    def evaluate_model_with_synthetic_data(self, model, n_splits, scoring='accuracy'):\n",
    "        \"\"\"\n",
    "        Evaluate a model with synthetic data using k-fold cross-validation.\n",
    "\n",
    "        Parameters:\n",
    "        - model: Machine learning model\n",
    "        - n_splits: Number of stratified folds for cross-validation\n",
    "        - evaluation_metric: String representing the evaluation metric ('accuracy', 'roc_auc', 'precision', 'recall', 'f1'), default is 'accuracy'\n",
    "\n",
    "        Returns:\n",
    "        - performance_scores: List of performance scores for each n\n",
    "        \"\"\"\n",
    "\n",
    "        skf = StratifiedKFold(n_splits=n_splits, shuffle=True, random_state=42)\n",
    "\n",
    "        splits = []\n",
    "        for _, test_index in skf.split(self.X_, self.y_):\n",
    "            splits.append(test_index)\n",
    "\n",
    "        results = {}\n",
    "\n",
    "        for n_folds in range(n_splits + 1):\n",
    "            \n",
    "            f1_scores = []\n",
    "            n1_scores = []\n",
    "            performance = []\n",
    "\n",
    "            if n_folds > 0:\n",
    "                folds_included = itertools.combinations(range(n_splits), r=n_folds)\n",
    "\n",
    "                for folds in folds_included:\n",
    "                    idx = np.hstack([splits[f] for f in folds])\n",
    "\n",
    "                    X = np.concatenate([self.X, self.X_[idx]])\n",
    "                    y = np.concatenate([self.y, self.y_[idx]])    \n",
    "\n",
    "                    f1_scores.append(F1(X, y))\n",
    "                    n1_scores.append(N1(X, y))\n",
    "\n",
    "                    score = cross_val_score(model, X, y, cv = skf, scoring = scoring)\n",
    "                    performance.append(np.mean(score))\n",
    "\n",
    "            else:\n",
    "                f1_scores.append(F1(self.X, self.y))\n",
    "                n1_scores.append(N1(self.X, self.y))\n",
    "\n",
    "                score = cross_val_score(model, self.X, self.y, cv = skf, scoring = scoring)\n",
    "                performance.append(np.mean(score))\n",
    "\n",
    "            try:\n",
    "                synthetic_percentage = self.X.shape[0]/(self.X.shape[0]+idx.shape[0])\n",
    "            except NameError:\n",
    "                synthetic_percentage = 0\n",
    "\n",
    "            results[synthetic_percentage] = {\n",
    "                                            'mean_f1': np.mean(f1_scores),\n",
    "                                            'std_f1': np.std(f1_scores),\n",
    "                                            'mean_n1': np.mean(n1_scores),\n",
    "                                            'std_n1': np.std(n1_scores),\n",
    "                                            'mean_score': np.mean(performance),\n",
    "                                            'std_score': np.std(performance)\n",
    "                                            }\n",
    "            \n",
    "        return results"
   ]
  },
  {
   "cell_type": "code",
   "execution_count": 19,
   "metadata": {},
   "outputs": [
    {
     "name": "stdout",
     "output_type": "stream",
     "text": [
      "Gen: 1, Best: 0.715, Avg: 1.162, Worst: 1.414\n",
      "Gen: 2, Best: 0.715, Avg: 0.994, Worst: 1.220\n",
      "Gen: 3, Best: 0.715, Avg: 0.927, Worst: 1.108\n",
      "Gen: 4, Best: 0.625, Avg: 0.877, Worst: 1.077\n",
      "Gen: 5, Best: 0.625, Avg: 0.844, Worst: 1.077\n",
      "Gen: 6, Best: 0.530, Avg: 0.792, Worst: 0.955\n",
      "Gen: 7, Best: 0.530, Avg: 0.810, Worst: 0.955\n",
      "Gen: 8, Best: 0.530, Avg: 0.756, Worst: 0.925\n",
      "Gen: 9, Best: 0.530, Avg: 0.740, Worst: 0.925\n"
     ]
    }
   ],
   "source": [
    "ca = ConceptDriftAnalysis(X, y, f1_target=1, n1_target=1)"
   ]
  },
  {
   "cell_type": "code",
   "execution_count": 20,
   "metadata": {},
   "outputs": [
    {
     "name": "stdout",
     "output_type": "stream",
     "text": [
      "[0.9697080604193874, 0.9951749877576729, 0.9442896156586883, 0.953290128902258, 0.9960198404808019]\n",
      "[0.9953017485830834, 0.9233307106446491, 0.931037787214122, 0.9957981142313005, 0.9938849974169468, 0.9959336851562859, 0.9975977363565386, 0.907467457200119, 0.9914843719119454, 0.995643761932847]\n",
      "[0.994052897788852, 0.9959517490515284, 0.9975177248627866, 0.8928987727106508, 0.9894194372048252, 0.9936212662166234, 0.9947297254407528, 0.9965441362015024, 0.997940584002812, 0.9889235562889729]\n",
      "[0.9947880441984476, 0.9964991032042743, 0.9978340819559998, 0.9870532057912416, 0.9969807950776864]\n",
      "[0.996899747743998]\n"
     ]
    },
    {
     "data": {
      "text/plain": [
       "{0: {'mean_f1': 0.3461590859435389,\n",
       "  'std_f1': 0.0,\n",
       "  'mean_n1': 0.2,\n",
       "  'std_n1': 0.0,\n",
       "  'mean_score': 0.9200000000000002,\n",
       "  'std_score': 0.0},\n",
       " 0.8333333333333334: {'mean_f1': 0.9716965266437617,\n",
       "  'std_f1': 0.021150650003157075,\n",
       "  'mean_n1': 0.30416666666666664,\n",
       "  'std_n1': 0.09545214042184236,\n",
       "  'mean_score': 0.8833333333333332,\n",
       "  'std_score': 0.016873713942763845},\n",
       " 0.7142857142857143: {'mean_f1': 0.9727480370647837,\n",
       "  'std_f1': 0.03458390456151566,\n",
       "  'mean_n1': 0.3264285714285714,\n",
       "  'std_n1': 0.0999515188601403,\n",
       "  'mean_score': 0.8828571428571428,\n",
       "  'std_score': 0.02647678998978665},\n",
       " 0.625: {'mean_f1': 0.9841599849769306,\n",
       "  'std_f1': 0.03055947368604563,\n",
       "  'mean_n1': 0.34374999999999994,\n",
       "  'std_n1': 0.06976523131187913,\n",
       "  'mean_score': 0.8859375,\n",
       "  'std_score': 0.020881454840360143},\n",
       " 0.5555555555555556: {'mean_f1': 0.9946310460455299,\n",
       "  'std_f1': 0.0039171088431583945,\n",
       "  'mean_n1': 0.3438888888888889,\n",
       "  'std_n1': 0.014098419489388364,\n",
       "  'mean_score': 0.8922222222222222,\n",
       "  'std_score': 0.016517854163687198},\n",
       " 0.5: {'mean_f1': 0.996899747743998,\n",
       "  'std_f1': 0.0,\n",
       "  'mean_n1': 0.3275,\n",
       "  'std_n1': 0.0,\n",
       "  'mean_score': 0.8875,\n",
       "  'std_score': 0.0}}"
      ]
     },
     "execution_count": 20,
     "metadata": {},
     "output_type": "execute_result"
    }
   ],
   "source": [
    "ca.evaluate_model_with_synthetic_data(model, n_splits=5)"
   ]
  }
 ],
 "metadata": {
  "kernelspec": {
   "display_name": "AITIA",
   "language": "python",
   "name": "aitia"
  },
  "language_info": {
   "codemirror_mode": {
    "name": "ipython",
    "version": 3
   },
   "file_extension": ".py",
   "mimetype": "text/x-python",
   "name": "python",
   "nbconvert_exporter": "python",
   "pygments_lexer": "ipython3",
   "version": "3.9.18"
  }
 },
 "nbformat": 4,
 "nbformat_minor": 2
}
