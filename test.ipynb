{
 "cells": [
  {
   "cell_type": "code",
   "execution_count": 1,
   "metadata": {},
   "outputs": [],
   "source": [
    "from sklearn.datasets import make_classification\n",
    "\n",
    "# Generate a 2-class classification dataset with 5 features and 200 instances\n",
    "X, y = make_classification(n_samples=200, n_features=5, n_informative=2, n_classes=2, random_state=42)\n",
    "\n",
    "X_, y_ = make_classification(n_samples=50, n_features=5, n_informative=2, n_classes=2, random_state=42)\n"
   ]
  },
  {
   "cell_type": "code",
   "execution_count": 4,
   "metadata": {},
   "outputs": [],
   "source": [
    "from AITIA.heuristics import DisjunctSize, DisjunctClassPercentage"
   ]
  },
  {
   "cell_type": "code",
   "execution_count": 3,
   "metadata": {},
   "outputs": [
    {
     "data": {
      "text/plain": [
       "{'depth': 0,\n",
       " 'decision': {'feature_name': 3, 'threshold': -0.15020010247826576},\n",
       " 'left': {'depth': 1,\n",
       "  'decision': {'feature_name': 1, 'threshold': -0.4398489147424698},\n",
       "  'left': {'depth': 2,\n",
       "   'decision': {'feature_name': 3, 'threshold': -0.380782812833786},\n",
       "   'left': {'depth': 3,\n",
       "    'decision': {'feature_name': 0, 'threshold': 0.9023169875144958},\n",
       "    'left': {'depth': 4,\n",
       "     'decision': {'feature_name': 3, 'threshold': -0.68701171875},\n",
       "     'left': {'depth': 5, 'instances_count': 1, 'instances_by_class': {0: 1}},\n",
       "     'right': {'depth': 5,\n",
       "      'instances_count': 1,\n",
       "      'instances_by_class': {1: 1}}},\n",
       "    'right': {'depth': 4, 'instances_count': 5, 'instances_by_class': {1: 5}}},\n",
       "   'right': {'depth': 3, 'instances_count': 4, 'instances_by_class': {0: 4}}},\n",
       "  'right': {'depth': 2,\n",
       "   'decision': {'feature_name': 3, 'threshold': -0.7986275255680084},\n",
       "   'left': {'depth': 3, 'instances_count': 58, 'instances_by_class': {0: 58}},\n",
       "   'right': {'depth': 3,\n",
       "    'decision': {'feature_name': 3, 'threshold': -0.7515645027160645},\n",
       "    'left': {'depth': 4, 'instances_count': 2, 'instances_by_class': {1: 2}},\n",
       "    'right': {'depth': 4,\n",
       "     'instances_count': 20,\n",
       "     'instances_by_class': {0: 20}}}}},\n",
       " 'right': {'depth': 1,\n",
       "  'decision': {'feature_name': 1, 'threshold': 0.6275590360164642},\n",
       "  'left': {'depth': 2,\n",
       "   'decision': {'feature_name': 4, 'threshold': -2.374553918838501},\n",
       "   'left': {'depth': 3,\n",
       "    'decision': {'feature_name': 0, 'threshold': 1.5849607586860657},\n",
       "    'left': {'depth': 4, 'instances_count': 3, 'instances_by_class': {0: 3}},\n",
       "    'right': {'depth': 4, 'instances_count': 1, 'instances_by_class': {1: 1}}},\n",
       "   'right': {'depth': 3,\n",
       "    'decision': {'feature_name': 4, 'threshold': 0.7706419825553894},\n",
       "    'left': {'depth': 4,\n",
       "     'decision': {'feature_name': 2, 'threshold': -1.2086737751960754},\n",
       "     'left': {'depth': 5,\n",
       "      'decision': {'feature_name': 2, 'threshold': -1.381450593471527},\n",
       "      'left': {'depth': 6,\n",
       "       'decision': {'feature_name': 1, 'threshold': -0.10782506875693798},\n",
       "       'left': {'depth': 7,\n",
       "        'instances_count': 5,\n",
       "        'instances_by_class': {1: 5}},\n",
       "       'right': {'depth': 7,\n",
       "        'decision': {'feature_name': 1, 'threshold': 0.022249890491366386},\n",
       "        'left': {'depth': 8,\n",
       "         'instances_count': 1,\n",
       "         'instances_by_class': {0: 1}},\n",
       "        'right': {'depth': 8,\n",
       "         'instances_count': 2,\n",
       "         'instances_by_class': {1: 2}}}},\n",
       "      'right': {'depth': 6,\n",
       "       'instances_count': 1,\n",
       "       'instances_by_class': {0: 1}}},\n",
       "     'right': {'depth': 5,\n",
       "      'decision': {'feature_name': 2, 'threshold': 0.9406599402427673},\n",
       "      'left': {'depth': 6,\n",
       "       'instances_count': 43,\n",
       "       'instances_by_class': {1: 43}},\n",
       "      'right': {'depth': 6,\n",
       "       'decision': {'feature_name': 2, 'threshold': 1.049448162317276},\n",
       "       'left': {'depth': 7,\n",
       "        'instances_count': 1,\n",
       "        'instances_by_class': {0: 1}},\n",
       "       'right': {'depth': 7,\n",
       "        'instances_count': 11,\n",
       "        'instances_by_class': {1: 11}}}}},\n",
       "    'right': {'depth': 4,\n",
       "     'decision': {'feature_name': 0, 'threshold': -0.23897618055343628},\n",
       "     'left': {'depth': 5,\n",
       "      'decision': {'feature_name': 3, 'threshold': 0.03285552468150854},\n",
       "      'left': {'depth': 6, 'instances_count': 1, 'instances_by_class': {0: 1}},\n",
       "      'right': {'depth': 6,\n",
       "       'decision': {'feature_name': 4, 'threshold': 1.199178397655487},\n",
       "       'left': {'depth': 7,\n",
       "        'decision': {'feature_name': 0, 'threshold': -0.5116028636693954},\n",
       "        'left': {'depth': 8,\n",
       "         'instances_count': 1,\n",
       "         'instances_by_class': {0: 1}},\n",
       "        'right': {'depth': 8,\n",
       "         'decision': {'feature_name': 1, 'threshold': 0.06468185409903526},\n",
       "         'left': {'depth': 9,\n",
       "          'instances_count': 1,\n",
       "          'instances_by_class': {0: 1}},\n",
       "         'right': {'depth': 9,\n",
       "          'instances_count': 5,\n",
       "          'instances_by_class': {1: 5}}}},\n",
       "       'right': {'depth': 7,\n",
       "        'instances_count': 24,\n",
       "        'instances_by_class': {1: 24}}}},\n",
       "     'right': {'depth': 5,\n",
       "      'decision': {'feature_name': 2, 'threshold': 0.2148682400584221},\n",
       "      'left': {'depth': 6, 'instances_count': 4, 'instances_by_class': {0: 4}},\n",
       "      'right': {'depth': 6,\n",
       "       'instances_count': 2,\n",
       "       'instances_by_class': {1: 2}}}}}},\n",
       "  'right': {'depth': 2, 'instances_count': 3, 'instances_by_class': {0: 3}}}}"
      ]
     },
     "execution_count": 3,
     "metadata": {},
     "output_type": "execute_result"
    }
   ],
   "source": [
    "test = DisjunctSize()\n",
    "test.fit(X,y)\n",
    "test.decision_tree"
   ]
  },
  {
   "cell_type": "code",
   "execution_count": 5,
   "metadata": {},
   "outputs": [
    {
     "data": {
      "text/plain": [
       "{'depth': 0,\n",
       " 'decision': {'feature_name': 3, 'threshold': -0.15020010247826576},\n",
       " 'left': {'depth': 1,\n",
       "  'decision': {'feature_name': 0, 'threshold': 0.8179221451282501},\n",
       "  'left': {'depth': 2,\n",
       "   'instances_count': 80,\n",
       "   'instances_by_class': {0: 78, 1: 2}},\n",
       "  'right': {'depth': 2,\n",
       "   'instances_count': 11,\n",
       "   'instances_by_class': {0: 5, 1: 6}}},\n",
       " 'right': {'depth': 1,\n",
       "  'decision': {'feature_name': 1, 'threshold': 0.6275590360164642},\n",
       "  'left': {'depth': 2,\n",
       "   'instances_count': 106,\n",
       "   'instances_by_class': {1: 93, 0: 13}},\n",
       "  'right': {'depth': 2, 'instances_count': 3, 'instances_by_class': {0: 3}}}}"
      ]
     },
     "execution_count": 5,
     "metadata": {},
     "output_type": "execute_result"
    }
   ],
   "source": [
    "test = DisjunctClassPercentage()\n",
    "test.fit(X,y,max_depth=2,balanced=True)\n",
    "test.decision_tree"
   ]
  }
 ],
 "metadata": {
  "kernelspec": {
   "display_name": "AITIA",
   "language": "python",
   "name": "aitia"
  },
  "language_info": {
   "codemirror_mode": {
    "name": "ipython",
    "version": 3
   },
   "file_extension": ".py",
   "mimetype": "text/x-python",
   "name": "python",
   "nbconvert_exporter": "python",
   "pygments_lexer": "ipython3",
   "version": "3.9.18"
  }
 },
 "nbformat": 4,
 "nbformat_minor": 2
}
